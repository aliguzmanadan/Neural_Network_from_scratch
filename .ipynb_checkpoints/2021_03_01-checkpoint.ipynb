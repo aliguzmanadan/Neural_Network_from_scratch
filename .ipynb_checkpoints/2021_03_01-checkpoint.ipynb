{
 "cells": [
  {
   "cell_type": "markdown",
   "metadata": {},
   "source": [
    "<h1 align=center><font size=5>Neural Network from scratch. Run over MINST Dataset  </font></h1>\n",
    "\n",
    "In this notebook we implement a Neural Network (NN) form sratch and test this implementation by training it with the MINST dataset.\n",
    "\n",
    "This is a simple NN implementation whose aim is to explain in a simple manner how the internal details of NN's work. Therefore some issues such as vanishing gradient are not treated here. The same applies for some features like batch normallization, dropput, gradient descent with momentum, etc.\n",
    "\n",
    "Althoug this is a very rudimentary implementation. It performs very good in the MINST sataset achiving over 96% accuracy on newly seen samples after 3000 iterations of training."
   ]
  },
  {
   "cell_type": "code",
   "execution_count": 1,
   "metadata": {},
   "outputs": [],
   "source": [
    "#Needed libraries and modules\n",
    "import pandas as pd                                  # data processing, reading CSV file, dealing with dataframes etc\n",
    "import numpy as np                                   # linear algebra functionalities \n",
    "import seaborn as sns                                # visualization library\n",
    "import matplotlib.pyplot as plt                      # visualization library\n",
    "\n",
    "#Modeling\n",
    "from sklearn.model_selection import train_test_split, GridSearchCV, cross_val_score\n",
    "from sklearn.svm import SVC\n",
    "from sklearn.metrics import accuracy_score\n",
    "\n",
    "import math \n",
    "import time\n",
    "import multiprocessing\n",
    "import warnings\n",
    "warnings.filterwarnings(\"ignore\")"
   ]
  },
  {
   "cell_type": "markdown",
   "metadata": {},
   "source": [
    "### Table of Contents\n",
    "\n",
    "* [1. Functions required to build a deep NN ](#Section1)\n",
    "    * [1.1 Initialize the parameters](#SubSection_1_1)\n",
    "    * [1.2 Implement forward propagation](#SubSection_1_2)\n",
    "    * [1.3 Compute loss](#SubSection_1_3)\n",
    "    * [1.4 Implement backward propagation](#SubSection_1_4)\n",
    "    * [1.5 Update the parameters](#SubSection_1_5)\n",
    "    * [1.6 Putting all together](#SubSection_1_5)\n",
    "* [2. Testing implementation on MINST Dataset ](#Section2)\n",
    "    * [2.1 Loading and checking the data](#SubSection_2_1)\n",
    "    * [2.2 Training the NN](#SubSection_2_2)\n",
    "\n"
   ]
  },
  {
   "cell_type": "markdown",
   "metadata": {},
   "source": [
    " # 1. Functions required to build a deep NN <a class=\"anchor\" id=\"Section1\"></a>"
   ]
  },
  {
   "cell_type": "markdown",
   "metadata": {},
   "source": [
    "In this section we build the required functions for a L-layer NN. In particluar, we will:\n",
    "\n",
    "1. Initialize the paremers \n",
    "2. Implement forward propagation\n",
    "3. Compute loss\n",
    "4. Implement backward propagation\n",
    "5. Update the parameters\n"
   ]
  },
  {
   "cell_type": "markdown",
   "metadata": {},
   "source": [
    "### 1.1 Initialize the parameters <a class=\"anchor\" id=\"SubSection_1_1\"></a> "
   ]
  },
  {
   "cell_type": "code",
   "execution_count": 2,
   "metadata": {},
   "outputs": [],
   "source": [
    "def initialize_parameters_DNN(layers_dims, random_seed = 1, sigma = 0.01):\n",
    "    \"\"\"\n",
    "    Arguments:\n",
    "    layer_dims -- python array (list) storing the dimensions per layer in the network\n",
    "    random_seed -- seed for reproducibility\n",
    "    sigma -- standard deviation of the normal distribution generating the random samples \n",
    "    \n",
    "    Returns:\n",
    "    parameters -- python dictionary containing the initialized netwrok parameters \"W1\", \"b1\", ..., \"WL\", \"bL\":\n",
    "                    Wl -- weight matrix corresponding to layer l, shape: (layer_dims[l], layer_dims[l-1])\n",
    "                    bl -- bias vector corresponding to layer l, shape: (layer_dims[l], 1)\n",
    "    \"\"\"\n",
    "    \n",
    "    np.random.seed(random_seed)\n",
    "    parameters = {}                 #dictionary to store the parameters once initialized\n",
    "    L = len(layers_dims)            # number of layers in the network\n",
    "\n",
    "    for l in range(1, L):\n",
    "        parameters['W' + str(l)] = np.random.randn(layers_dims[l],layers_dims[l-1])*sigma \n",
    "        parameters['b' + str(l)] = np.zeros((layers_dims[l],1))\n",
    "        \n",
    "        assert(parameters['W' + str(l)].shape == (layers_dims[l], layers_dims[l-1]))\n",
    "        assert(parameters['b' + str(l)].shape == (layers_dims[l], 1))\n",
    "\n",
    "        \n",
    "    return parameters"
   ]
  },
  {
   "cell_type": "markdown",
   "metadata": {},
   "source": [
    "### 1.2 Implement forward propagation <a class=\"anchor\" id=\"SubSection_1_2\"></a> "
   ]
  },
  {
   "cell_type": "markdown",
   "metadata": {},
   "source": [
    "We implement forward propagation by means of the following functions:\n",
    "    \n",
    "- linear_forward: It computes $Z^{[l]} = W^{[l]}A^{[l-1]} +b^{[l]}$\n",
    "- Activation functions: sigmoid, relu\n",
    "- linear_action_forward: It computes $A^{[l]}=g^{[l]}(W^{[l]}A^{[l-1]} +b^{[l]})$ where $g^{[l]}$ is either ReLU or Sigmoid. \n",
    "- Forward propagation for the whole model: [LINEAR -> RELU] $\\times$ (L-1) -> LINEAR -> SIGMOID (whole model)"
   ]
  },
  {
   "cell_type": "markdown",
   "metadata": {},
   "source": [
    "1. Linear forward "
   ]
  },
  {
   "cell_type": "code",
   "execution_count": 3,
   "metadata": {},
   "outputs": [],
   "source": [
    "def linear_forward(A, W, b):\n",
    "    \"\"\"\n",
    "    This is the linear part of a layer's forward propagation.\n",
    "\n",
    "    Arguments:\n",
    "    A -- activations from previous layer (or input data)\n",
    "    W -- weights matrix\n",
    "    b -- bias vector\n",
    "\n",
    "    Returns:\n",
    "    Z -- the input of the activation function (pre-activation parameter) \n",
    "    cache -- a python tuple containing \"A\", \"W\" and \"b\" ; stored for computing the backward step in this layer\n",
    "    \"\"\"\n",
    "    \n",
    "    Z = np.dot(W,A)+b\n",
    "    cache = (A, W, b)\n",
    "    \n",
    "    assert(Z.shape == (W.shape[0], A.shape[1]))\n",
    "    return Z, cache"
   ]
  },
  {
   "cell_type": "markdown",
   "metadata": {},
   "source": [
    "2. Activation functions"
   ]
  },
  {
   "cell_type": "code",
   "execution_count": 4,
   "metadata": {},
   "outputs": [],
   "source": [
    "def sigmoid(z):\n",
    "    return 1/(1+np.exp(-z))"
   ]
  },
  {
   "cell_type": "code",
   "execution_count": 5,
   "metadata": {},
   "outputs": [],
   "source": [
    "def relu(z):\n",
    "    return np.maximum(0,z)"
   ]
  },
  {
   "cell_type": "markdown",
   "metadata": {},
   "source": [
    "3. Linear activation forward "
   ]
  },
  {
   "cell_type": "code",
   "execution_count": 6,
   "metadata": {},
   "outputs": [],
   "source": [
    "def linear_activation_forward(A_prev, W, b, activation):\n",
    "    \"\"\"\n",
    "    This is the LINEAR->ACTIVATION part of the propagation for the  layer\n",
    "\n",
    "    Arguments:\n",
    "    A_prev -- activation from previous layer (or input data): (size of previous layer, number of examples)\n",
    "    W -- weights matrix: numpy array of shape (size of current layer, size of previous layer)\n",
    "    b -- bias vector, numpy array of shape (size of the current layer, 1)\n",
    "    activation -- the activation to be used in this layer, stored as a text string: \"sigmoid\" or \"relu\"\n",
    "\n",
    "    Returns:\n",
    "    A -- the output of the activation function, also called the post-activation value \n",
    "    cache -- a python tuple containing \"linear_cache\" and \"activation_cache\";\n",
    "             stored for computing the backward pass efficiently\n",
    "    \"\"\"\n",
    "    \n",
    "    if activation == \"sigmoid\":\n",
    "        Z, linear_cache = linear_forward(A_prev, W, b)\n",
    "        A = sigmoid(Z)\n",
    "    if activation == \"relu\":\n",
    "        Z, linear_cache = linear_forward(A_prev, W, b)\n",
    "        A = relu(Z)\n",
    "    \n",
    "    activation_cache = Z\n",
    "    \n",
    "    assert (A.shape == (W.shape[0], A_prev.shape[1]))\n",
    "    \n",
    "    cache = (linear_cache, activation_cache)\n",
    "    #cache = ((A_prev, W, b), Z)\n",
    "\n",
    "    return A, cache"
   ]
  },
  {
   "cell_type": "markdown",
   "metadata": {},
   "source": [
    "4. Forward propagation for the complete model"
   ]
  },
  {
   "cell_type": "code",
   "execution_count": 7,
   "metadata": {},
   "outputs": [],
   "source": [
    "def L_model_forward(X, parameters):\n",
    "    \"\"\"\n",
    "    Forward propagation for the [LINEAR->RELU]*(L-1)->LINEAR->SIGMOID computation\n",
    "    \n",
    "    Arguments:\n",
    "    X -- initial data, numpy array of shape (input size, number of examples)\n",
    "    parameters -- output of initialize_parameters_DNN()\n",
    "    \n",
    "    Returns:\n",
    "    AL -- last post-activation value\n",
    "    caches -- list of caches containing:\n",
    "                every cache of linear_activation_forward() (there are L-1 of them, indexed from 0 to L-1)\n",
    "    \"\"\"\n",
    "\n",
    "    caches = []\n",
    "    A = X\n",
    "    L = len(parameters) // 2                  # number of layers in the neural network\n",
    "    \n",
    "    #First L-1 stpes with relu activation\n",
    "    for l in range(1, L):\n",
    "        A_prev = A \n",
    "        A, cache = linear_activation_forward(A_prev, parameters['W'+str(l)], parameters['b'+str(l)], 'relu')\n",
    "        caches.append(cache)\n",
    "        \n",
    "    \n",
    "    # Last step with sigmoid activation\n",
    "    AL, cache = linear_activation_forward(A, parameters['W'+str(L)], parameters['b'+str(L)], 'sigmoid')\n",
    "    caches.append(cache)\n",
    "    \n",
    "    assert(AL.shape == (parameters['b'+str(L)].shape[0],X.shape[1]))\n",
    "            \n",
    "    return AL, caches"
   ]
  },
  {
   "cell_type": "markdown",
   "metadata": {},
   "source": [
    "### 1.3 Compute loss <a class=\"anchor\" id=\"SubSection_1_3\"></a> "
   ]
  },
  {
   "cell_type": "markdown",
   "metadata": {},
   "source": [
    "We compute the cross-entropy cost $J$: \n",
    "\n",
    "$$-\\frac{1}{m} \\sum\\limits_{i = 1}^{m} \\sum_{j=1}^{n^{[L]}} \\left[y_j^{(i)}\\log\\left(a_j^{[L] (i)}\\right) + (1-y_j^{(i)})\\log\\left(1- a_j^{[L](i)}\\right)\\right] $$\n",
    "\n",
    "We recall that $n^{[L]}$ is the dmension of the output layer, i.e. the amount of classes."
   ]
  },
  {
   "cell_type": "code",
   "execution_count": 8,
   "metadata": {},
   "outputs": [],
   "source": [
    "def compute_cost(AL, Y):\n",
    "    \"\"\"\n",
    "    Cost function defined by the above equation\n",
    "\n",
    "    Arguments:\n",
    "    AL -- probability matrix corresponding to your label predictions, shape (number of classes, number of examples)\n",
    "    Y -- true \"label\" matrix, shape (number of classes, number of examples)\n",
    "\n",
    "    Returns:\n",
    "    cost -- cross-entropy cost\n",
    "    \"\"\"\n",
    "    \n",
    "    m = Y.shape[1]\n",
    "    cost = (-1/m) * np.sum(Y*np.log(AL) + (1-Y)*np.log(1-AL))\n",
    "    cost = np.squeeze(cost)      # To make sure your cost's shape is what we expect (e.g. this turns [[17]] into 17).\n",
    "    assert(cost.shape == ())\n",
    "    return cost"
   ]
  },
  {
   "cell_type": "markdown",
   "metadata": {},
   "source": [
    "### 1.4 Backward propagation <a class=\"anchor\" id=\"SubSection_1_4\"></a> "
   ]
  },
  {
   "cell_type": "markdown",
   "metadata": {},
   "source": [
    "In the layer $l$, once we have computed the gradient $dZ^{[l]} = \\frac{\\partial J }{\\partial Z^{[l]}}$, we can compute $(dW^{[l]}, db^{[l]}, dA^{[l-1]})$ as follows\n",
    "\n",
    "$$ dW^{[l]} = \\frac{\\partial {J} }{\\partial W^{[l]}} = \\frac{1}{m} dZ^{[l]} A^{[l-1] T} $$\n",
    "$$ db^{[l]} = \\frac{\\partial {J} }{\\partial b^{[l]}} = \\frac{1}{m} \\sum_{i = 1}^{m} dZ^{[l](i)}$$\n",
    "$$ dA^{[l-1]} = \\frac{\\partial J }{\\partial A^{[l-1]}} = W^{[l] T} dZ^{[l]} $$\n",
    "\n",
    "\n",
    "We thus implement backward propagation by means of the following functions:\n",
    "    \n",
    "- linear_backward: Given $dZ^{[l]}$,  it computes $(dW^{[l]}, db^{[l]}, dA^{[l-1]})$ \n",
    "- Derivatives of the activation functions: sigmoid_der, relu_der\n",
    "- sigmoid_backward, relu_backward: They compute $dZ^{[l]} = dA^{[l]} * {g^{[l]}}^\\prime (Z^{[l]})$, where $*$ denotes element-wise multipliaction, and ${g^{[l]}}$ is the activation function corresponding to the layer l (relo or sigmoid).\n",
    "- linear_activation_backward: Does the full backward porpagation step in a given layer\n",
    "- Backward propagation for the whole model: [LINEAR -> RELU] $\\times$ (L-1) -> LINEAR -> SIGMOID (whole model)"
   ]
  },
  {
   "cell_type": "markdown",
   "metadata": {},
   "source": [
    "1. linear_backward"
   ]
  },
  {
   "cell_type": "code",
   "execution_count": 9,
   "metadata": {},
   "outputs": [],
   "source": [
    "def linear_backward(dZ, cache):\n",
    "    \"\"\"\n",
    "    This is the linear portion of backward propagation for a single layer (layer l)\n",
    "\n",
    "    Arguments:\n",
    "    dZ -- Gradient of the cost with respect to Z^[l] (of current layer l)\n",
    "    cache -- tuple of values (A_prev, W, b) coming from the forward propagation in the current layer\n",
    "\n",
    "    Returns:\n",
    "    dA_prev -- Gradient of the cost with respect to the activation (of the previous layer l-1), same shape as A_prev\n",
    "    dW -- Gradient of the cost with respect to W (current layer l), same shape as W\n",
    "    db -- Gradient of the cost with respect to b (current layer l), same shape as b\n",
    "    \"\"\"\n",
    "    A_prev, W, b = cache\n",
    "    m = A_prev.shape[1]\n",
    "\n",
    "    dW = (1/m) * np.dot(dZ,A_prev.T)\n",
    "    db = (1/m) * np.sum(dZ, axis=1, keepdims=True)\n",
    "    dA_prev = np.dot(W.T,dZ)\n",
    "    \n",
    "    assert (dA_prev.shape == A_prev.shape)\n",
    "    assert (dW.shape == W.shape)\n",
    "    assert (db.shape == b.shape)\n",
    "    \n",
    "    return dA_prev, dW, db"
   ]
  },
  {
   "cell_type": "markdown",
   "metadata": {},
   "source": [
    "2. Derivatives of the activation functions"
   ]
  },
  {
   "cell_type": "code",
   "execution_count": 10,
   "metadata": {},
   "outputs": [],
   "source": [
    "def sigmoid_der(z):\n",
    "    a = sigmoid(z)\n",
    "    return a*(1-a)"
   ]
  },
  {
   "cell_type": "code",
   "execution_count": 11,
   "metadata": {},
   "outputs": [],
   "source": [
    "def relu_der(z):\n",
    "    return np.heaviside(z, 1)\n"
   ]
  },
  {
   "cell_type": "markdown",
   "metadata": {},
   "source": [
    "3. sigmoid_backward, relu_backward: Given dA, they compute dZ"
   ]
  },
  {
   "cell_type": "code",
   "execution_count": 12,
   "metadata": {},
   "outputs": [],
   "source": [
    "def sigmoid_backward(dA, activation_cache):\n",
    "    \"\"\"\n",
    "    Arguments:\n",
    "    dA -- Gradient of the cost with respect to the activation (of current layer l)\n",
    "    activation_cache -- pre-activation parameter Z in the current layer (obtained from forward propagation)\n",
    "\n",
    "    Returns:\n",
    "    dZ -- Gradient of the cost with respect to Z^[l] (of current layer l)\n",
    "    \"\"\"\n",
    "    dZ = dA * sigmoid_der(activation_cache) \n",
    "    return dZ"
   ]
  },
  {
   "cell_type": "code",
   "execution_count": 13,
   "metadata": {},
   "outputs": [],
   "source": [
    "def relu_backward(dA, activation_cache):\n",
    "    \"\"\"\n",
    "    Arguments:\n",
    "    dA -- Gradient of the cost with respect to the activation (of current layer l)\n",
    "    activation_cache -- pre-activation parameter Z in the current layer (obtained from forward propagation)\n",
    "\n",
    "    Returns:\n",
    "    dZ -- Gradient of the cost with respect to Z^[l] (of current layer l)\n",
    "    \"\"\"\n",
    "    dZ = dA * relu_der(activation_cache) \n",
    "    return dZ"
   ]
  },
  {
   "cell_type": "markdown",
   "metadata": {},
   "source": [
    "4. Backward propagation step in a given layer"
   ]
  },
  {
   "cell_type": "code",
   "execution_count": 14,
   "metadata": {},
   "outputs": [],
   "source": [
    "def linear_activation_backward(dA, cache, activation):\n",
    "    \"\"\"\n",
    "    Full backward propagation step for a given layer.\n",
    "    \n",
    "    Arguments:\n",
    "    dA -- post-activation gradient for current layer l, i.e. dA^[l] \n",
    "    cache -- tuple of values (linear_cache, activation_cache) = ((A^[l-1], W^[l], b^[l]), Z^[l]) \n",
    "             we store for computing backward propagation efficiently\n",
    "    activation -- the activation to be used in this layer, stored as a text string: \"sigmoid\" or \"relu\"\n",
    "    \n",
    "    Returns:\n",
    "    dA_prev -- Gradient of the cost with respect to the activation (of the previous layer l-1), same shape as A_prev\n",
    "    dW -- Gradient of the cost with respect to W (current layer l), same shape as W\n",
    "    db -- Gradient of the cost with respect to b (current layer l), same shape as b\n",
    "    \"\"\"\n",
    "    linear_cache, activation_cache = cache\n",
    "    \n",
    "    if activation == \"relu\":\n",
    "        dZ = relu_backward(dA, cache[1])\n",
    "        dA_prev, dW, db = linear_backward(dZ, cache[0])\n",
    "        \n",
    "    elif activation == \"sigmoid\":\n",
    "        dZ = sigmoid_backward(dA, cache[1])\n",
    "        dA_prev, dW, db = linear_backward(dZ, cache[0])\n",
    "    \n",
    "    return dA_prev, dW, db"
   ]
  },
  {
   "cell_type": "markdown",
   "metadata": {},
   "source": [
    "5. Backward propagation for the whole model"
   ]
  },
  {
   "cell_type": "code",
   "execution_count": 15,
   "metadata": {},
   "outputs": [],
   "source": [
    "def L_model_backward(AL, Y, caches):\n",
    "    \"\"\"\n",
    "    Implement the backward propagation for the [LINEAR->RELU] * (L-1) -> LINEAR -> SIGMOID group\n",
    "    \n",
    "    Arguments:\n",
    "    AL -- probability vector, output of the forward propagation (L_model_forward())\n",
    "    Y -- true \"label\" vector in {0,1}^{n^[L]}\n",
    "    caches -- list of caches containing:\n",
    "                every cache of linear_activation_forward() with \"relu\", i.e. caches[l], for l in range(L-1) i.e. l = 0...L-2 and\n",
    "                the cache of linear_activation_forward() with \"sigmoid\", i.e. caches[L-1]\n",
    "    \n",
    "    Returns:\n",
    "    grads -- A dictionary with the gradients\n",
    "             grads[\"dA\" + str(l)] = ... \n",
    "             grads[\"dW\" + str(l)] = ...\n",
    "             grads[\"db\" + str(l)] = ... \n",
    "    \"\"\"\n",
    "    grads = {}\n",
    "    L = len(caches) # the number of layers\n",
    "    m = AL.shape[1]\n",
    "    Y = Y.reshape(AL.shape) # after this line, Y is the same shape as AL\n",
    "    \n",
    "    # Initializing the backpropagation\n",
    "    dAL = - (np.divide(Y, AL) - np.divide(1 - Y, 1 - AL))\n",
    "    \n",
    "    # Step for Lth layer SIGMOID. Inputs: \"dAL, current_cache\". Outputs: \"grads[\"dAL-1\"], grads[\"dWL\"], grads[\"dbL\"]\n",
    "    grads[\"dA\" + str(L-1)], grads[\"dW\" + str(L)], grads[\"db\" + str(L)] = linear_activation_backward(dAL, caches[L-1], 'sigmoid')\n",
    "    \n",
    "    # Lopp for the rest of layers RELU, l=L-2, ..., 0\n",
    "    for l in reversed(range(L-1)): \n",
    "        dA_prev_temp, dW_temp, db_temp = linear_activation_backward(grads['dA'+str(l+1)], caches[l], 'relu')\n",
    "        grads[\"dA\" + str(l)] = dA_prev_temp\n",
    "        grads[\"dW\" + str(l + 1)] = dW_temp\n",
    "        grads[\"db\" + str(l + 1)] = db_temp\n",
    "\n",
    "    return grads"
   ]
  },
  {
   "cell_type": "markdown",
   "metadata": {},
   "source": [
    "### 1.5 Update parameters <a class=\"anchor\" id=\"SubSection_1_5\"></a> "
   ]
  },
  {
   "cell_type": "markdown",
   "metadata": {},
   "source": [
    "We now update the parameters of the model, using gradient descent: \n",
    "\n",
    "$$ W^{[l]} = W^{[l]} - \\alpha \\text{ } dW^{[l]} $$\n",
    "$$ b^{[l]} = b^{[l]} - \\alpha \\text{ } db^{[l]} $$\n"
   ]
  },
  {
   "cell_type": "code",
   "execution_count": 16,
   "metadata": {},
   "outputs": [],
   "source": [
    "def update_parameters(parameters, grads, learning_rate):\n",
    "    \"\"\"\n",
    "    Arguments:\n",
    "    parameters -- python dictionary containing the parameters \n",
    "    grads -- python dictionary containing the corresponding gradients, output of L_model_backward\n",
    "    \n",
    "    Returns:\n",
    "    parameters -- python dictionary containing your updated parameters \n",
    "                  parameters[\"W\" + str(l)] = ... \n",
    "                  parameters[\"b\" + str(l)] = ...\n",
    "    \"\"\"\n",
    "    \n",
    "    L = len(parameters) // 2 # number of layers in the neural network\n",
    "\n",
    "    # Update rule for each parameter. Use a for loop.\n",
    "    for l in range(L):\n",
    "        parameters[\"W\" + str(l+1)] -= learning_rate * grads['dW'+ str(l+1)]\n",
    "        parameters[\"b\" + str(l+1)] -= learning_rate * grads['db'+ str(l+1)]\n",
    "    return parameters"
   ]
  },
  {
   "cell_type": "markdown",
   "metadata": {},
   "source": [
    "### 1.6 Putting all together <a class=\"anchor\" id=\"SubSection_1_6\"></a> \n",
    "\n",
    "Now we use the above component functions to define the a prediction function and a fit function for the Neural Network model."
   ]
  },
  {
   "cell_type": "code",
   "execution_count": 17,
   "metadata": {},
   "outputs": [],
   "source": [
    "#prediction function\n",
    "\n",
    "def Digits_NN_predict(X, parameters):\n",
    "    AL, caches = L_model_forward(X, parameters)\n",
    "    return np.argmax(AL, axis =0)"
   ]
  },
  {
   "cell_type": "code",
   "execution_count": 18,
   "metadata": {},
   "outputs": [],
   "source": [
    "def L_layer_NN_fit(X, Y, layers_dims, learning_rate = 0.0075, num_iterations = 3000, print_cost=False, random_seed=1, sigma=0.01):\n",
    "    \"\"\"\n",
    "    Trains an L-layer neural network: [LINEAR->RELU]*(L-1)->LINEAR->SIGMOID.\n",
    "    \n",
    "    Arguments:\n",
    "    X -- initial data, numpy array of shape (n^[0], number of examples)\n",
    "    Y -- true \"label\" vector (containing 0 in entries representing the incorrect lable, 1 in entries \n",
    "         representing the correct lable), of shape (n^[L] = number of classes, number of examples)\n",
    "    layers_dims -- list containing the input size and each layer size, of length (number of layers + 1).\n",
    "    learning_rate -- learning rate of the gradient descent update rule\n",
    "    num_iterations -- number of iterations of the optimization loop\n",
    "    print_cost -- if True, it prints the cost every 100 steps\n",
    "    random_seed -- seed for reproducibility in initialization of the parameters\n",
    "    sigma -- standard deviation in initialization of the parameters\n",
    "    \n",
    "    Returns:\n",
    "    parameters -- parameters learned by the model. They can then be used to predict.\n",
    "    \"\"\"\n",
    "\n",
    "    np.random.seed(random_seed)\n",
    "    costs = []                         # keep track of cost\n",
    "    \n",
    "    # Parameters initialization\n",
    "    parameters = initialize_parameters_DNN(layers_dims, random_seed, sigma)\n",
    "    \n",
    "    #print(\"Intial W1 parameter: \\n\", parameters['W1'])\n",
    "    \n",
    "    # Loop (gradient descent)\n",
    "    for i in range(0, num_iterations):\n",
    "\n",
    "        # Forward propagation: [LINEAR -> RELU]*(L-1) -> LINEAR -> SIGMOID.\n",
    "        AL, caches = L_model_forward(X, parameters)\n",
    "        \n",
    "        # Compute cost.\n",
    "        cost = compute_cost(AL, Y)\n",
    "    \n",
    "        # Backward propagation.\n",
    "        grads = L_model_backward(AL, Y, caches)\n",
    " \n",
    "        # Update parameters.\n",
    "        parameters = update_parameters(parameters, grads, learning_rate)\n",
    "                \n",
    "        # Print the cost every 100 training example\n",
    "        if print_cost and i % 100 == 0:\n",
    "            print (\"Cost after iteration %i: %f\" %(i, cost))\n",
    "            costs.append(cost)\n",
    "            \n",
    "            #print(\"Gradient W1 after iteration %i: %f \\n\", grads['dW1'])\n",
    "            Ytemp = Digits_NN_predict(X, parameters)\n",
    "            print(\"Accuracy after iteration \" + str(i)+ ':', accuracy_score(Ytemp, True_labels))\n",
    "            \n",
    "            \n",
    "    # plot the cost\n",
    "    plt.plot(np.squeeze(costs))\n",
    "    plt.ylabel('cost')\n",
    "    plt.xlabel('iterations (per hundreds)')\n",
    "    plt.title(\"Learning rate =\" + str(learning_rate))\n",
    "    plt.show()  \n",
    "   \n",
    "    \n",
    "    return parameters"
   ]
  },
  {
   "cell_type": "markdown",
   "metadata": {},
   "source": [
    " # 2. Digit Recognition MINST data set NN <a class=\"anchor\" id=\"Section2\"></a>\n",
    " \n",
    " We will now test our implementation of a neural network using the well-known MINST dataset. "
   ]
  },
  {
   "cell_type": "markdown",
   "metadata": {},
   "source": [
    "### 2.1 Loading and checking the data <a class=\"anchor\" id=\"SubSection_2_1\"></a> "
   ]
  },
  {
   "cell_type": "code",
   "execution_count": 19,
   "metadata": {},
   "outputs": [],
   "source": [
    "#Loading training and test set to dataframes\n",
    "path_train = 'train.csv'\n",
    "path_test = 'test.csv'\n",
    "path_test_lables = 'test_lables.csv'\n",
    "\n",
    "df_train = pd.read_csv(path_train)\n",
    "df_test = pd.read_csv(path_test)\n",
    "\n",
    "True_labels = df_train['label'].to_numpy()\n",
    "df_test_lables = pd.read_csv(path_test_lables)\n"
   ]
  },
  {
   "cell_type": "code",
   "execution_count": 20,
   "metadata": {},
   "outputs": [
    {
     "data": {
      "text/html": [
       "<div>\n",
       "<style scoped>\n",
       "    .dataframe tbody tr th:only-of-type {\n",
       "        vertical-align: middle;\n",
       "    }\n",
       "\n",
       "    .dataframe tbody tr th {\n",
       "        vertical-align: top;\n",
       "    }\n",
       "\n",
       "    .dataframe thead th {\n",
       "        text-align: right;\n",
       "    }\n",
       "</style>\n",
       "<table border=\"1\" class=\"dataframe\">\n",
       "  <thead>\n",
       "    <tr style=\"text-align: right;\">\n",
       "      <th></th>\n",
       "      <th>label</th>\n",
       "      <th>pixel0</th>\n",
       "      <th>pixel1</th>\n",
       "      <th>pixel2</th>\n",
       "      <th>pixel3</th>\n",
       "      <th>pixel4</th>\n",
       "      <th>pixel5</th>\n",
       "      <th>pixel6</th>\n",
       "      <th>pixel7</th>\n",
       "      <th>pixel8</th>\n",
       "      <th>...</th>\n",
       "      <th>pixel774</th>\n",
       "      <th>pixel775</th>\n",
       "      <th>pixel776</th>\n",
       "      <th>pixel777</th>\n",
       "      <th>pixel778</th>\n",
       "      <th>pixel779</th>\n",
       "      <th>pixel780</th>\n",
       "      <th>pixel781</th>\n",
       "      <th>pixel782</th>\n",
       "      <th>pixel783</th>\n",
       "    </tr>\n",
       "  </thead>\n",
       "  <tbody>\n",
       "    <tr>\n",
       "      <th>0</th>\n",
       "      <td>1</td>\n",
       "      <td>0</td>\n",
       "      <td>0</td>\n",
       "      <td>0</td>\n",
       "      <td>0</td>\n",
       "      <td>0</td>\n",
       "      <td>0</td>\n",
       "      <td>0</td>\n",
       "      <td>0</td>\n",
       "      <td>0</td>\n",
       "      <td>...</td>\n",
       "      <td>0</td>\n",
       "      <td>0</td>\n",
       "      <td>0</td>\n",
       "      <td>0</td>\n",
       "      <td>0</td>\n",
       "      <td>0</td>\n",
       "      <td>0</td>\n",
       "      <td>0</td>\n",
       "      <td>0</td>\n",
       "      <td>0</td>\n",
       "    </tr>\n",
       "    <tr>\n",
       "      <th>1</th>\n",
       "      <td>0</td>\n",
       "      <td>0</td>\n",
       "      <td>0</td>\n",
       "      <td>0</td>\n",
       "      <td>0</td>\n",
       "      <td>0</td>\n",
       "      <td>0</td>\n",
       "      <td>0</td>\n",
       "      <td>0</td>\n",
       "      <td>0</td>\n",
       "      <td>...</td>\n",
       "      <td>0</td>\n",
       "      <td>0</td>\n",
       "      <td>0</td>\n",
       "      <td>0</td>\n",
       "      <td>0</td>\n",
       "      <td>0</td>\n",
       "      <td>0</td>\n",
       "      <td>0</td>\n",
       "      <td>0</td>\n",
       "      <td>0</td>\n",
       "    </tr>\n",
       "    <tr>\n",
       "      <th>2</th>\n",
       "      <td>1</td>\n",
       "      <td>0</td>\n",
       "      <td>0</td>\n",
       "      <td>0</td>\n",
       "      <td>0</td>\n",
       "      <td>0</td>\n",
       "      <td>0</td>\n",
       "      <td>0</td>\n",
       "      <td>0</td>\n",
       "      <td>0</td>\n",
       "      <td>...</td>\n",
       "      <td>0</td>\n",
       "      <td>0</td>\n",
       "      <td>0</td>\n",
       "      <td>0</td>\n",
       "      <td>0</td>\n",
       "      <td>0</td>\n",
       "      <td>0</td>\n",
       "      <td>0</td>\n",
       "      <td>0</td>\n",
       "      <td>0</td>\n",
       "    </tr>\n",
       "    <tr>\n",
       "      <th>3</th>\n",
       "      <td>4</td>\n",
       "      <td>0</td>\n",
       "      <td>0</td>\n",
       "      <td>0</td>\n",
       "      <td>0</td>\n",
       "      <td>0</td>\n",
       "      <td>0</td>\n",
       "      <td>0</td>\n",
       "      <td>0</td>\n",
       "      <td>0</td>\n",
       "      <td>...</td>\n",
       "      <td>0</td>\n",
       "      <td>0</td>\n",
       "      <td>0</td>\n",
       "      <td>0</td>\n",
       "      <td>0</td>\n",
       "      <td>0</td>\n",
       "      <td>0</td>\n",
       "      <td>0</td>\n",
       "      <td>0</td>\n",
       "      <td>0</td>\n",
       "    </tr>\n",
       "    <tr>\n",
       "      <th>4</th>\n",
       "      <td>0</td>\n",
       "      <td>0</td>\n",
       "      <td>0</td>\n",
       "      <td>0</td>\n",
       "      <td>0</td>\n",
       "      <td>0</td>\n",
       "      <td>0</td>\n",
       "      <td>0</td>\n",
       "      <td>0</td>\n",
       "      <td>0</td>\n",
       "      <td>...</td>\n",
       "      <td>0</td>\n",
       "      <td>0</td>\n",
       "      <td>0</td>\n",
       "      <td>0</td>\n",
       "      <td>0</td>\n",
       "      <td>0</td>\n",
       "      <td>0</td>\n",
       "      <td>0</td>\n",
       "      <td>0</td>\n",
       "      <td>0</td>\n",
       "    </tr>\n",
       "  </tbody>\n",
       "</table>\n",
       "<p>5 rows × 785 columns</p>\n",
       "</div>"
      ],
      "text/plain": [
       "   label  pixel0  pixel1  pixel2  pixel3  pixel4  pixel5  pixel6  pixel7  \\\n",
       "0      1       0       0       0       0       0       0       0       0   \n",
       "1      0       0       0       0       0       0       0       0       0   \n",
       "2      1       0       0       0       0       0       0       0       0   \n",
       "3      4       0       0       0       0       0       0       0       0   \n",
       "4      0       0       0       0       0       0       0       0       0   \n",
       "\n",
       "   pixel8  ...  pixel774  pixel775  pixel776  pixel777  pixel778  pixel779  \\\n",
       "0       0  ...         0         0         0         0         0         0   \n",
       "1       0  ...         0         0         0         0         0         0   \n",
       "2       0  ...         0         0         0         0         0         0   \n",
       "3       0  ...         0         0         0         0         0         0   \n",
       "4       0  ...         0         0         0         0         0         0   \n",
       "\n",
       "   pixel780  pixel781  pixel782  pixel783  \n",
       "0         0         0         0         0  \n",
       "1         0         0         0         0  \n",
       "2         0         0         0         0  \n",
       "3         0         0         0         0  \n",
       "4         0         0         0         0  \n",
       "\n",
       "[5 rows x 785 columns]"
      ]
     },
     "execution_count": 20,
     "metadata": {},
     "output_type": "execute_result"
    }
   ],
   "source": [
    "df_train.head(5)"
   ]
  },
  {
   "cell_type": "markdown",
   "metadata": {},
   "source": [
    "We now covert labels to categorizal data to meed the implementation requirements of our model."
   ]
  },
  {
   "cell_type": "code",
   "execution_count": 21,
   "metadata": {},
   "outputs": [
    {
     "data": {
      "text/html": [
       "<div>\n",
       "<style scoped>\n",
       "    .dataframe tbody tr th:only-of-type {\n",
       "        vertical-align: middle;\n",
       "    }\n",
       "\n",
       "    .dataframe tbody tr th {\n",
       "        vertical-align: top;\n",
       "    }\n",
       "\n",
       "    .dataframe thead th {\n",
       "        text-align: right;\n",
       "    }\n",
       "</style>\n",
       "<table border=\"1\" class=\"dataframe\">\n",
       "  <thead>\n",
       "    <tr style=\"text-align: right;\">\n",
       "      <th></th>\n",
       "      <th>0</th>\n",
       "      <th>1</th>\n",
       "      <th>2</th>\n",
       "      <th>3</th>\n",
       "      <th>4</th>\n",
       "      <th>5</th>\n",
       "      <th>6</th>\n",
       "      <th>7</th>\n",
       "      <th>8</th>\n",
       "      <th>9</th>\n",
       "    </tr>\n",
       "  </thead>\n",
       "  <tbody>\n",
       "    <tr>\n",
       "      <th>0</th>\n",
       "      <td>0</td>\n",
       "      <td>1</td>\n",
       "      <td>0</td>\n",
       "      <td>0</td>\n",
       "      <td>0</td>\n",
       "      <td>0</td>\n",
       "      <td>0</td>\n",
       "      <td>0</td>\n",
       "      <td>0</td>\n",
       "      <td>0</td>\n",
       "    </tr>\n",
       "    <tr>\n",
       "      <th>1</th>\n",
       "      <td>1</td>\n",
       "      <td>0</td>\n",
       "      <td>0</td>\n",
       "      <td>0</td>\n",
       "      <td>0</td>\n",
       "      <td>0</td>\n",
       "      <td>0</td>\n",
       "      <td>0</td>\n",
       "      <td>0</td>\n",
       "      <td>0</td>\n",
       "    </tr>\n",
       "    <tr>\n",
       "      <th>2</th>\n",
       "      <td>0</td>\n",
       "      <td>1</td>\n",
       "      <td>0</td>\n",
       "      <td>0</td>\n",
       "      <td>0</td>\n",
       "      <td>0</td>\n",
       "      <td>0</td>\n",
       "      <td>0</td>\n",
       "      <td>0</td>\n",
       "      <td>0</td>\n",
       "    </tr>\n",
       "    <tr>\n",
       "      <th>3</th>\n",
       "      <td>0</td>\n",
       "      <td>0</td>\n",
       "      <td>0</td>\n",
       "      <td>0</td>\n",
       "      <td>1</td>\n",
       "      <td>0</td>\n",
       "      <td>0</td>\n",
       "      <td>0</td>\n",
       "      <td>0</td>\n",
       "      <td>0</td>\n",
       "    </tr>\n",
       "    <tr>\n",
       "      <th>4</th>\n",
       "      <td>1</td>\n",
       "      <td>0</td>\n",
       "      <td>0</td>\n",
       "      <td>0</td>\n",
       "      <td>0</td>\n",
       "      <td>0</td>\n",
       "      <td>0</td>\n",
       "      <td>0</td>\n",
       "      <td>0</td>\n",
       "      <td>0</td>\n",
       "    </tr>\n",
       "    <tr>\n",
       "      <th>...</th>\n",
       "      <td>...</td>\n",
       "      <td>...</td>\n",
       "      <td>...</td>\n",
       "      <td>...</td>\n",
       "      <td>...</td>\n",
       "      <td>...</td>\n",
       "      <td>...</td>\n",
       "      <td>...</td>\n",
       "      <td>...</td>\n",
       "      <td>...</td>\n",
       "    </tr>\n",
       "    <tr>\n",
       "      <th>41995</th>\n",
       "      <td>1</td>\n",
       "      <td>0</td>\n",
       "      <td>0</td>\n",
       "      <td>0</td>\n",
       "      <td>0</td>\n",
       "      <td>0</td>\n",
       "      <td>0</td>\n",
       "      <td>0</td>\n",
       "      <td>0</td>\n",
       "      <td>0</td>\n",
       "    </tr>\n",
       "    <tr>\n",
       "      <th>41996</th>\n",
       "      <td>0</td>\n",
       "      <td>1</td>\n",
       "      <td>0</td>\n",
       "      <td>0</td>\n",
       "      <td>0</td>\n",
       "      <td>0</td>\n",
       "      <td>0</td>\n",
       "      <td>0</td>\n",
       "      <td>0</td>\n",
       "      <td>0</td>\n",
       "    </tr>\n",
       "    <tr>\n",
       "      <th>41997</th>\n",
       "      <td>0</td>\n",
       "      <td>0</td>\n",
       "      <td>0</td>\n",
       "      <td>0</td>\n",
       "      <td>0</td>\n",
       "      <td>0</td>\n",
       "      <td>0</td>\n",
       "      <td>1</td>\n",
       "      <td>0</td>\n",
       "      <td>0</td>\n",
       "    </tr>\n",
       "    <tr>\n",
       "      <th>41998</th>\n",
       "      <td>0</td>\n",
       "      <td>0</td>\n",
       "      <td>0</td>\n",
       "      <td>0</td>\n",
       "      <td>0</td>\n",
       "      <td>0</td>\n",
       "      <td>1</td>\n",
       "      <td>0</td>\n",
       "      <td>0</td>\n",
       "      <td>0</td>\n",
       "    </tr>\n",
       "    <tr>\n",
       "      <th>41999</th>\n",
       "      <td>0</td>\n",
       "      <td>0</td>\n",
       "      <td>0</td>\n",
       "      <td>0</td>\n",
       "      <td>0</td>\n",
       "      <td>0</td>\n",
       "      <td>0</td>\n",
       "      <td>0</td>\n",
       "      <td>0</td>\n",
       "      <td>1</td>\n",
       "    </tr>\n",
       "  </tbody>\n",
       "</table>\n",
       "<p>42000 rows × 10 columns</p>\n",
       "</div>"
      ],
      "text/plain": [
       "       0  1  2  3  4  5  6  7  8  9\n",
       "0      0  1  0  0  0  0  0  0  0  0\n",
       "1      1  0  0  0  0  0  0  0  0  0\n",
       "2      0  1  0  0  0  0  0  0  0  0\n",
       "3      0  0  0  0  1  0  0  0  0  0\n",
       "4      1  0  0  0  0  0  0  0  0  0\n",
       "...   .. .. .. .. .. .. .. .. .. ..\n",
       "41995  1  0  0  0  0  0  0  0  0  0\n",
       "41996  0  1  0  0  0  0  0  0  0  0\n",
       "41997  0  0  0  0  0  0  0  1  0  0\n",
       "41998  0  0  0  0  0  0  1  0  0  0\n",
       "41999  0  0  0  0  0  0  0  0  0  1\n",
       "\n",
       "[42000 rows x 10 columns]"
      ]
     },
     "execution_count": 21,
     "metadata": {},
     "output_type": "execute_result"
    }
   ],
   "source": [
    "#Converting labels into categorical data\n",
    "\n",
    "Y = pd.get_dummies(df_train[\"label\"])\n",
    "Y"
   ]
  },
  {
   "cell_type": "code",
   "execution_count": 22,
   "metadata": {},
   "outputs": [],
   "source": [
    "#Converting train and test sets to numpy arrays\n",
    "#each column corresponds to a a data sample\n",
    "\n",
    "#Train set\n",
    "X_train = df_train.iloc[:, 1:].to_numpy().T  \n",
    "Y_train = Y.to_numpy().T\n",
    "\n",
    "#Test set \n",
    "X_test = df_test.to_numpy().T\n",
    "Y_test = df_test_lables.iloc[:, 1].to_numpy()"
   ]
  },
  {
   "cell_type": "code",
   "execution_count": 23,
   "metadata": {},
   "outputs": [
    {
     "data": {
      "text/plain": [
       "array([[0, 1, 0, ..., 0, 0, 0],\n",
       "       [1, 0, 1, ..., 0, 0, 0],\n",
       "       [0, 0, 0, ..., 0, 0, 0],\n",
       "       ...,\n",
       "       [0, 0, 0, ..., 1, 0, 0],\n",
       "       [0, 0, 0, ..., 0, 0, 0],\n",
       "       [0, 0, 0, ..., 0, 0, 1]], dtype=uint8)"
      ]
     },
     "execution_count": 23,
     "metadata": {},
     "output_type": "execute_result"
    }
   ],
   "source": [
    "Y_train"
   ]
  },
  {
   "cell_type": "code",
   "execution_count": 24,
   "metadata": {},
   "outputs": [],
   "source": [
    "# Standardize data to have feature values between 0 and 1.\n",
    "X_train = X_train/255.\n",
    "X_test = X_test/255."
   ]
  },
  {
   "cell_type": "code",
   "execution_count": 25,
   "metadata": {},
   "outputs": [
    {
     "name": "stdout",
     "output_type": "stream",
     "text": [
      "Amount of examples in the train set is: 42000\n",
      "Amount of different classes of the data: 10\n",
      "Shape of Y in train set is: (10, 42000)\n",
      "Shape of X in train set is: (784, 42000)\n",
      "Shape of the test set is: (784, 28000)\n",
      "Each example is an image, i.e. a squared matrix of dimemsion: 28.0\n"
     ]
    }
   ],
   "source": [
    "print(\"Amount of examples in the train set is:\", Y_train.shape[1])\n",
    "print(\"Amount of different classes of the data:\", Y_train.shape[0])\n",
    "print(\"Shape of Y in train set is:\", Y_train.shape)\n",
    "print(\"Shape of X in train set is:\", X_train.shape)\n",
    "print(\"Shape of the test set is:\", X_test.shape)\n",
    "print(\"Each example is an image, i.e. a squared matrix of dimemsion:\", math.sqrt(X_train.shape[0]))"
   ]
  },
  {
   "cell_type": "markdown",
   "metadata": {},
   "source": [
    "We define de following function to plot images in a grid if nxn picures with their respective lables"
   ]
  },
  {
   "cell_type": "code",
   "execution_count": 26,
   "metadata": {},
   "outputs": [],
   "source": [
    "import random\n",
    "#Function to plot n^2 random images in an array of nxn\n",
    "\n",
    "def PlotingPictures(Data, size1, size2, n, label = [], rand = False):\n",
    "    \"\"\"\n",
    "    This functions plots n^2 images of size (size1 x size2) in a squared grid of order n.\n",
    "    \n",
    "    Parameters:\n",
    "     1. Data: a list of images of order (a*b, k), that stores k images of order (a,b)\n",
    "     2. size1 and size2: the shape of the images to be dispayed (size1xsize2 = axb)\n",
    "     3. n: the size of the squared grid in which we will polt the images\n",
    "     4. label: set of labels for the images (default empty list)\n",
    "     5. rand: indicates whether we want to display random images or the first n^2 images\n",
    "    \"\"\"\n",
    "    # width, height in inches\n",
    "    fig = plt.figure(figsize=(1.5*n, 1.5*n))  \n",
    "    \n",
    "    if rand:\n",
    "        #Taking n^2 random indices for the images to be displayed\n",
    "        sample = random.sample(range(Data.shape[0]), pow(n,2))\n",
    "    else:\n",
    "        sample = range(pow(n,2))\n",
    "    \n",
    "    for i in range(pow(n,2)):\n",
    "        #making a sub plot, each sumplot at a time, and ploting the corresponding image\n",
    "        sub = fig.add_subplot(n, n, i + 1)\n",
    "        plt.subplots_adjust(hspace = 3/(n))\n",
    "        if len(label) !=0:\n",
    "            sub.set_title(\"Label: \" + str(label[sample[i]]))\n",
    "        sub.imshow(Data[:,sample[i]].reshape(size1,size2), interpolation='nearest', cmap='gray')\n"
   ]
  },
  {
   "cell_type": "code",
   "execution_count": 27,
   "metadata": {},
   "outputs": [
    {
     "data": {
      "image/png": "[encoded data removed]",
      "text/plain": [
       "<Figure size 432x432 with 16 Axes>"
      ]
     },
     "metadata": {
      "needs_background": "light"
     },
     "output_type": "display_data"
    }
   ],
   "source": [
    "PlotingPictures(X_train, 28, 28, 4, df_train['label'])"
   ]
  },
  {
   "cell_type": "markdown",
   "metadata": {},
   "source": [
    "### 2.2 Training the NN <a class=\"anchor\" id=\"SubSection_2_2\"></a> "
   ]
  },
  {
   "cell_type": "code",
   "execution_count": 28,
   "metadata": {},
   "outputs": [
    {
     "name": "stdout",
     "output_type": "stream",
     "text": [
      "Cost after iteration 0: 6.931328\n",
      "Accuracy after iteration 0: 0.11152380952380953\n",
      "Cost after iteration 100: 3.244564\n",
      "Accuracy after iteration 100: 0.12480952380952381\n",
      "Cost after iteration 200: 2.789265\n",
      "Accuracy after iteration 200: 0.2897857142857143\n",
      "Cost after iteration 300: 1.944114\n",
      "Accuracy after iteration 300: 0.5616428571428571\n",
      "Cost after iteration 400: 1.210278\n",
      "Accuracy after iteration 400: 0.787547619047619\n",
      "Cost after iteration 500: 0.849425\n",
      "Accuracy after iteration 500: 0.8625952380952381\n",
      "Cost after iteration 600: 0.625139\n",
      "Accuracy after iteration 600: 0.9021904761904762\n",
      "Cost after iteration 700: 0.524292\n",
      "Accuracy after iteration 700: 0.9193571428571429\n",
      "Cost after iteration 800: 0.459878\n",
      "Accuracy after iteration 800: 0.928952380952381\n",
      "Cost after iteration 900: 0.415921\n",
      "Accuracy after iteration 900: 0.9363333333333334\n",
      "Cost after iteration 1000: 0.372716\n",
      "Accuracy after iteration 1000: 0.9430952380952381\n",
      "Cost after iteration 1100: 0.343332\n",
      "Accuracy after iteration 1100: 0.9484285714285714\n",
      "Cost after iteration 1200: 0.315863\n",
      "Accuracy after iteration 1200: 0.9537857142857142\n",
      "Cost after iteration 1300: 0.294708\n",
      "Accuracy after iteration 1300: 0.9570952380952381\n",
      "Cost after iteration 1400: 0.275618\n",
      "Accuracy after iteration 1400: 0.960047619047619\n",
      "Cost after iteration 1500: 0.259673\n",
      "Accuracy after iteration 1500: 0.9626904761904762\n",
      "Cost after iteration 1600: 0.246589\n",
      "Accuracy after iteration 1600: 0.9645476190476191\n",
      "Cost after iteration 1700: 0.233422\n",
      "Accuracy after iteration 1700: 0.9668571428571429\n",
      "Cost after iteration 1800: 0.221765\n",
      "Accuracy after iteration 1800: 0.9687142857142857\n",
      "Cost after iteration 1900: 0.211633\n",
      "Accuracy after iteration 1900: 0.9703095238095238\n",
      "Cost after iteration 2000: 0.205280\n",
      "Accuracy after iteration 2000: 0.9717857142857143\n",
      "Cost after iteration 2100: 0.194356\n",
      "Accuracy after iteration 2100: 0.9735952380952381\n",
      "Cost after iteration 2200: 0.185720\n",
      "Accuracy after iteration 2200: 0.9748571428571429\n",
      "Cost after iteration 2300: 0.177953\n",
      "Accuracy after iteration 2300: 0.9758333333333333\n",
      "Cost after iteration 2400: 0.172119\n",
      "Accuracy after iteration 2400: 0.9768333333333333\n",
      "Cost after iteration 2500: 0.171996\n",
      "Accuracy after iteration 2500: 0.9767619047619047\n",
      "Cost after iteration 2600: 0.160572\n",
      "Accuracy after iteration 2600: 0.9786190476190476\n",
      "Cost after iteration 2700: 0.153658\n",
      "Accuracy after iteration 2700: 0.9798333333333333\n",
      "Cost after iteration 2800: 0.148617\n",
      "Accuracy after iteration 2800: 0.9807142857142858\n",
      "Cost after iteration 2900: 0.155801\n",
      "Accuracy after iteration 2900: 0.9793095238095239\n"
     ]
    },
    {
     "data": {
      "image/png": "[encoded data removed]",
      "text/plain": [
       "<Figure size 432x288 with 1 Axes>"
      ]
     },
     "metadata": {
      "needs_background": "light"
     },
     "output_type": "display_data"
    },
    {
     "name": "stdout",
     "output_type": "stream",
     "text": [
      "End of training process. Execution time: 829.8989911079407 seconds\n"
     ]
    }
   ],
   "source": [
    "layers_dims = [784, 28, 28, 10] #  3-layer model\n",
    "\n",
    "import time\n",
    "start_time = time.time()\n",
    "Trained_params = L_layer_NN_fit(X_train, Y_train, layers_dims, learning_rate = 0.2, \n",
    "                                num_iterations = 3000, print_cost=True, random_seed = 7)\n",
    "print(f'End of training process. Execution time: {(time.time() - start_time)} seconds')\n"
   ]
  },
  {
   "cell_type": "markdown",
   "metadata": {},
   "source": [
    "We now check the first 16 predictions in the train set to see that they are indeed correct"
   ]
  },
  {
   "cell_type": "code",
   "execution_count": 29,
   "metadata": {},
   "outputs": [
    {
     "name": "stdout",
     "output_type": "stream",
     "text": [
      "First 16 predictions: [1 0 1 4 0 0 7 3 5 3 8 9 1 3 3 1]\n"
     ]
    },
    {
     "data": {
      "image/png": "[encoded data removed]",
      "text/plain": [
       "<Figure size 432x432 with 16 Axes>"
      ]
     },
     "metadata": {
      "needs_background": "light"
     },
     "output_type": "display_data"
    }
   ],
   "source": [
    "predictions = Digits_NN_predict(X_train, Trained_params)\n",
    "print(f'First 16 predictions: {predictions[0:16]}') \n",
    "PlotingPictures(X_train, 28, 28, 4, df_train['label'])"
   ]
  },
  {
   "cell_type": "code",
   "execution_count": 30,
   "metadata": {},
   "outputs": [
    {
     "name": "stdout",
     "output_type": "stream",
     "text": [
      "Acurracy on the train set: 0.9822619047619048\n"
     ]
    }
   ],
   "source": [
    "print(f'Acurracy on the train set: {accuracy_score(predictions, True_labels)}')"
   ]
  },
  {
   "cell_type": "markdown",
   "metadata": {},
   "source": [
    "Let's now check the first 16 predictions in the test set"
   ]
  },
  {
   "cell_type": "code",
   "execution_count": 33,
   "metadata": {},
   "outputs": [
    {
     "name": "stdout",
     "output_type": "stream",
     "text": [
      "First 16 predictions: [2 0 9 9 3 7 0 3 0 3 5 7 4 0 4 3]\n"
     ]
    },
    {
     "data": {
      "image/png": "[encoded data removed]",
      "text/plain": [
       "<Figure size 432x432 with 16 Axes>"
      ]
     },
     "metadata": {
      "needs_background": "light"
     },
     "output_type": "display_data"
    }
   ],
   "source": [
    "predictions_test = Digits_NN_predict(X_test, Trained_params)\n",
    "print(f'First 16 predictions: {predictions_test[0:16]}') \n",
    "PlotingPictures(X_test, 28, 28, 4, df_test_lables[\"Label\"])"
   ]
  },
  {
   "cell_type": "markdown",
   "metadata": {},
   "source": [
    "We see that only in the fourth picture we have a misclassification: \"9 instead of 0\""
   ]
  },
  {
   "cell_type": "code",
   "execution_count": 34,
   "metadata": {},
   "outputs": [
    {
     "name": "stdout",
     "output_type": "stream",
     "text": [
      "Acurracy on the train set: 0.9615714285714285\n",
      "Amount of missclassified samples: 1076\n"
     ]
    }
   ],
   "source": [
    "print(f'Acurracy on the train set: {accuracy_score(predictions_test, Y_test)}')\n",
    "print(f'Amount of missclassified samples: {sum(predictions_test != Y_test)}')"
   ]
  },
  {
   "cell_type": "markdown",
   "metadata": {},
   "source": [
    "Let's now see some examples of missclassified pictures. The labels used are the ones of the prediction. "
   ]
  },
  {
   "cell_type": "code",
   "execution_count": 35,
   "metadata": {},
   "outputs": [
    {
     "data": {
      "image/png": "[encoded data removed]",
      "text/plain": [
       "<Figure size 540x540 with 25 Axes>"
      ]
     },
     "metadata": {
      "needs_background": "light"
     },
     "output_type": "display_data"
    }
   ],
   "source": [
    "misclassified = predictions_test != Y_test\n",
    "PlotingPictures(X_test[:,misclassified], 28, 28, 5, predictions_test[misclassified], rand = True)"
   ]
  },
  {
   "cell_type": "code",
   "execution_count": null,
   "metadata": {},
   "outputs": [],
   "source": []
  }
 ],
 "metadata": {
  "kernelspec": {
   "display_name": "Python 3",
   "language": "python",
   "name": "python3"
  },
  "language_info": {
   "codemirror_mode": {
    "name": "ipython",
    "version": 3
   },
   "file_extension": ".py",
   "mimetype": "text/x-python",
   "name": "python",
   "nbconvert_exporter": "python",
   "pygments_lexer": "ipython3",
   "version": "3.7.6"
  }
 },
 "nbformat": 4,
 "nbformat_minor": 4
}
